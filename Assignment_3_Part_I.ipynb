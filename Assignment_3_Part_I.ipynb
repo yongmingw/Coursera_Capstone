{
 "cells": [
  {
   "cell_type": "markdown",
   "metadata": {},
   "source": [
    "# ASSIGNMENT III - THE BATTLE OF NEIGHBOURHOODS"
   ]
  },
  {
   "cell_type": "markdown",
   "metadata": {},
   "source": [
    "## Week 4"
   ]
  },
  {
   "cell_type": "markdown",
   "metadata": {},
   "source": [
    "## Introduction/Business Problem"
   ]
  },
  {
   "cell_type": "markdown",
   "metadata": {},
   "source": [
    "A real estate company want to build some shopping and office buildings in New-York-City and Toronto. They want to know which location are the best to do it. To advise them, I will build a profile type of each neighborhood. To do so, I will compare the both city neighborhoods using Fouresquare API to load some venues for each locations. I will cluster and rank the most unique venues occurrence for each cluster.\n",
    "With my neighborhoods description, the company will be able to invest in the best areas to optimize the best return on investment."
   ]
  },
  {
   "cell_type": "markdown",
   "metadata": {},
   "source": [
    "## Introduction/Business Problem"
   ]
  },
  {
   "cell_type": "markdown",
   "metadata": {},
   "source": [
    "A real estate company want to build some shopping and office buildings in New-York-City and Toronto. They want to know which location are the best to do it. To advise them, I will build a profile type of each neighborhood. To do so, I will compare the both city neighborhoods using Fouresquare API to load some venues for each locations. I will cluster and rank the most unique venues occurrence for each cluster.\n",
    "With my neighborhoods description, the company will be able to invest in the best areas to optimize the best return on investment."
   ]
  }
 ],
 "metadata": {
  "kernelspec": {
   "display_name": "Python",
   "language": "python",
   "name": "conda-env-python-py"
  },
  "language_info": {
   "codemirror_mode": {
    "name": "ipython",
    "version": 3
   },
   "file_extension": ".py",
   "mimetype": "text/x-python",
   "name": "python",
   "nbconvert_exporter": "python",
   "pygments_lexer": "ipython3",
   "version": "3.6.7"
  }
 },
 "nbformat": 4,
 "nbformat_minor": 4
}
