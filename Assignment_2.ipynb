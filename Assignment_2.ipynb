{
 "cells": [
  {
   "cell_type": "markdown",
   "metadata": {},
   "source": [
    "<a href=\"https://www.bigdatauniversity.com\"><img src = \"https://ibm.box.com/shared/static/cw2c7r3o20w9zn8gkecaeyjhgw3xdgbj.png\" width=\"400\" align=\"center\"></a>\n",
    "\n",
    "<h1><center>Assignment II - Clustering Toronto</center></h1>"
   ]
  },
  {
   "cell_type": "markdown",
   "metadata": {},
   "source": [
    "# ---------------------------------------------- Part I ---------------------------------------------"
   ]
  },
  {
   "cell_type": "markdown",
   "metadata": {},
   "source": [
    "### Import and download library"
   ]
  },
  {
   "cell_type": "code",
   "execution_count": 37,
   "metadata": {},
   "outputs": [
    {
     "name": "stdout",
     "output_type": "stream",
     "text": [
      "Requirement already satisfied: BeautifulSoup4 in /home/jupyterlab/conda/envs/python/lib/python3.6/site-packages (4.8.0)\n",
      "Requirement already satisfied: soupsieve>=1.2 in /home/jupyterlab/conda/envs/python/lib/python3.6/site-packages (from BeautifulSoup4) (1.9.3)\n",
      "Note: you may need to restart the kernel to use updated packages.\n"
     ]
    }
   ],
   "source": [
    "pip install BeautifulSoup4"
   ]
  },
  {
   "cell_type": "code",
   "execution_count": 38,
   "metadata": {},
   "outputs": [
    {
     "name": "stdout",
     "output_type": "stream",
     "text": [
      "Requirement already satisfied: lxml in /home/jupyterlab/conda/envs/python/lib/python3.6/site-packages (4.4.1)\n",
      "Note: you may need to restart the kernel to use updated packages.\n"
     ]
    }
   ],
   "source": [
    "pip install lxml"
   ]
  },
  {
   "cell_type": "code",
   "execution_count": 39,
   "metadata": {},
   "outputs": [
    {
     "name": "stdout",
     "output_type": "stream",
     "text": [
      "Requirement already satisfied: html5lib in /home/jupyterlab/conda/envs/python/lib/python3.6/site-packages (0.9999999)\n",
      "Requirement already satisfied: six in /home/jupyterlab/conda/envs/python/lib/python3.6/site-packages (from html5lib) (1.12.0)\n",
      "Note: you may need to restart the kernel to use updated packages.\n"
     ]
    }
   ],
   "source": [
    "pip install html5lib"
   ]
  },
  {
   "cell_type": "code",
   "execution_count": 40,
   "metadata": {},
   "outputs": [
    {
     "name": "stdout",
     "output_type": "stream",
     "text": [
      "Everything is downloaded and imported\n"
     ]
    }
   ],
   "source": [
    "import pandas as pd\n",
    "import numpy as np\n",
    "import urllib.request\n",
    "from bs4 import BeautifulSoup\n",
    "print('Everything is downloaded and imported')"
   ]
  },
  {
   "cell_type": "markdown",
   "metadata": {},
   "source": [
    "### Get a local copy in the repository of the Wikipedia article"
   ]
  },
  {
   "cell_type": "code",
   "execution_count": 41,
   "metadata": {},
   "outputs": [],
   "source": [
    "#get a local copy of the Wikipedia article\n",
    "url = 'https://en.wikipedia.org/wiki/List_of_postal_codes_of_Canada:_M'\n",
    "req = urllib.request.urlopen(url)\n",
    "article = req.read().decode()\n",
    "with open('List_of_postal_codes_of_Canada:_M.html', 'w') as fo:\n",
    "    fo.write(article)"
   ]
  },
  {
   "cell_type": "markdown",
   "metadata": {},
   "source": [
    "### Load data from repository"
   ]
  },
  {
   "cell_type": "code",
   "execution_count": 42,
   "metadata": {},
   "outputs": [
    {
     "data": {
      "text/html": [
       "<div>\n",
       "<style scoped>\n",
       "    .dataframe tbody tr th:only-of-type {\n",
       "        vertical-align: middle;\n",
       "    }\n",
       "\n",
       "    .dataframe tbody tr th {\n",
       "        vertical-align: top;\n",
       "    }\n",
       "\n",
       "    .dataframe thead th {\n",
       "        text-align: right;\n",
       "    }\n",
       "</style>\n",
       "<table border=\"1\" class=\"dataframe\">\n",
       "  <thead>\n",
       "    <tr style=\"text-align: right;\">\n",
       "      <th></th>\n",
       "      <th>Postcode</th>\n",
       "      <th>Borough</th>\n",
       "      <th>Neighbourhood</th>\n",
       "    </tr>\n",
       "  </thead>\n",
       "  <tbody>\n",
       "    <tr>\n",
       "      <th>0</th>\n",
       "      <td>M1A</td>\n",
       "      <td>Not assigned</td>\n",
       "      <td>Not assigned</td>\n",
       "    </tr>\n",
       "    <tr>\n",
       "      <th>1</th>\n",
       "      <td>M2A</td>\n",
       "      <td>Not assigned</td>\n",
       "      <td>Not assigned</td>\n",
       "    </tr>\n",
       "    <tr>\n",
       "      <th>2</th>\n",
       "      <td>M3A</td>\n",
       "      <td>North York</td>\n",
       "      <td>Parkwoods</td>\n",
       "    </tr>\n",
       "    <tr>\n",
       "      <th>3</th>\n",
       "      <td>M4A</td>\n",
       "      <td>North York</td>\n",
       "      <td>Victoria Village</td>\n",
       "    </tr>\n",
       "    <tr>\n",
       "      <th>4</th>\n",
       "      <td>M5A</td>\n",
       "      <td>Downtown Toronto</td>\n",
       "      <td>Harbourfront</td>\n",
       "    </tr>\n",
       "  </tbody>\n",
       "</table>\n",
       "</div>"
      ],
      "text/plain": [
       "  Postcode           Borough     Neighbourhood\n",
       "0      M1A      Not assigned      Not assigned\n",
       "1      M2A      Not assigned      Not assigned\n",
       "2      M3A        North York         Parkwoods\n",
       "3      M4A        North York  Victoria Village\n",
       "4      M5A  Downtown Toronto      Harbourfront"
      ]
     },
     "execution_count": 42,
     "metadata": {},
     "output_type": "execute_result"
    }
   ],
   "source": [
    "tables = pd.read_html('List_of_postal_codes_of_Canada:_M.html', header = 0, keep_default_na = False, )\n",
    "tables[0].head()"
   ]
  },
  {
   "cell_type": "markdown",
   "metadata": {},
   "source": [
    "### Extract table from the list tables"
   ]
  },
  {
   "cell_type": "code",
   "execution_count": 43,
   "metadata": {},
   "outputs": [],
   "source": [
    "headings = ['Postcode', 'Borough', 'Neighbourhood']\n",
    "for table in tables:\n",
    "    current_headings  = table.columns.values[:3]\n",
    "    if len(current_headings) != len(headings):\n",
    "        continue\n",
    "    if all(current_headings == headings):\n",
    "        break"
   ]
  },
  {
   "cell_type": "markdown",
   "metadata": {},
   "source": [
    "### Save tables into csv file into the repository "
   ]
  },
  {
   "cell_type": "code",
   "execution_count": 44,
   "metadata": {},
   "outputs": [],
   "source": [
    "table[headings].to_csv('test.txt', sep=';', header=False, index=False)"
   ]
  },
  {
   "cell_type": "markdown",
   "metadata": {},
   "source": [
    "### Import table csv file as dataframe and change column name"
   ]
  },
  {
   "cell_type": "code",
   "execution_count": 45,
   "metadata": {},
   "outputs": [],
   "source": [
    "df = pd.read_csv('test.txt', sep = ';', header = None)\n",
    "df.columns = ['PostalCode', 'Borough', 'Neighbourhood']"
   ]
  },
  {
   "cell_type": "markdown",
   "metadata": {},
   "source": [
    "### Delete rows where Borough are not assigned / rearrange index"
   ]
  },
  {
   "cell_type": "code",
   "execution_count": 46,
   "metadata": {},
   "outputs": [],
   "source": [
    "df = df[df.Borough != 'Not assigned']\n",
    "df.reset_index(inplace = True)\n",
    "df = df.drop(['index'], axis = 1)"
   ]
  },
  {
   "cell_type": "markdown",
   "metadata": {},
   "source": [
    "### Merge rows with same PostalCode and keep different Neighbourhood name separated with ','"
   ]
  },
  {
   "cell_type": "code",
   "execution_count": 47,
   "metadata": {},
   "outputs": [],
   "source": [
    "df = df[df.Borough != 'Not assigned']\n",
    "df.reset_index(inplace = True)\n",
    "df = df.drop(['index'], axis = 1)"
   ]
  },
  {
   "cell_type": "markdown",
   "metadata": {},
   "source": [
    "### Replace not assigned Neighbourhood with Borough corresponding"
   ]
  },
  {
   "cell_type": "code",
   "execution_count": 48,
   "metadata": {},
   "outputs": [],
   "source": [
    "df.loc[df.Neighbourhood == 'Not assigned', 'Neighbourhood'] = df.Borough"
   ]
  },
  {
   "cell_type": "code",
   "execution_count": 49,
   "metadata": {},
   "outputs": [
    {
     "data": {
      "text/html": [
       "<div>\n",
       "<style scoped>\n",
       "    .dataframe tbody tr th:only-of-type {\n",
       "        vertical-align: middle;\n",
       "    }\n",
       "\n",
       "    .dataframe tbody tr th {\n",
       "        vertical-align: top;\n",
       "    }\n",
       "\n",
       "    .dataframe thead th {\n",
       "        text-align: right;\n",
       "    }\n",
       "</style>\n",
       "<table border=\"1\" class=\"dataframe\">\n",
       "  <thead>\n",
       "    <tr style=\"text-align: right;\">\n",
       "      <th></th>\n",
       "      <th>PostalCode</th>\n",
       "      <th>Borough</th>\n",
       "      <th>Neighbourhood</th>\n",
       "    </tr>\n",
       "  </thead>\n",
       "  <tbody>\n",
       "    <tr>\n",
       "      <th>0</th>\n",
       "      <td>M1B</td>\n",
       "      <td>Scarborough</td>\n",
       "      <td>Rouge,Malvern</td>\n",
       "    </tr>\n",
       "    <tr>\n",
       "      <th>1</th>\n",
       "      <td>M1C</td>\n",
       "      <td>Scarborough</td>\n",
       "      <td>Highland Creek,Rouge Hill,Port Union</td>\n",
       "    </tr>\n",
       "    <tr>\n",
       "      <th>2</th>\n",
       "      <td>M1E</td>\n",
       "      <td>Scarborough</td>\n",
       "      <td>Guildwood,Morningside,West Hill</td>\n",
       "    </tr>\n",
       "    <tr>\n",
       "      <th>3</th>\n",
       "      <td>M1G</td>\n",
       "      <td>Scarborough</td>\n",
       "      <td>Woburn</td>\n",
       "    </tr>\n",
       "    <tr>\n",
       "      <th>4</th>\n",
       "      <td>M1H</td>\n",
       "      <td>Scarborough</td>\n",
       "      <td>Cedarbrae</td>\n",
       "    </tr>\n",
       "  </tbody>\n",
       "</table>\n",
       "</div>"
      ],
      "text/plain": [
       "  PostalCode      Borough                         Neighbourhood\n",
       "0        M1B  Scarborough                         Rouge,Malvern\n",
       "1        M1C  Scarborough  Highland Creek,Rouge Hill,Port Union\n",
       "2        M1E  Scarborough       Guildwood,Morningside,West Hill\n",
       "3        M1G  Scarborough                                Woburn\n",
       "4        M1H  Scarborough                             Cedarbrae"
      ]
     },
     "execution_count": 49,
     "metadata": {},
     "output_type": "execute_result"
    }
   ],
   "source": [
    "df.head()"
   ]
  },
  {
   "cell_type": "code",
   "execution_count": 50,
   "metadata": {},
   "outputs": [
    {
     "data": {
      "text/plain": [
       "(103, 3)"
      ]
     },
     "execution_count": 50,
     "metadata": {},
     "output_type": "execute_result"
    }
   ],
   "source": [
    "df.shape"
   ]
  },
  {
   "cell_type": "markdown",
   "metadata": {},
   "source": [
    "# --------------------------------------------- Part II ---------------------------------------------"
   ]
  },
  {
   "cell_type": "markdown",
   "metadata": {},
   "source": [
    "### Download the data"
   ]
  },
  {
   "cell_type": "code",
   "execution_count": 51,
   "metadata": {},
   "outputs": [
    {
     "name": "stdout",
     "output_type": "stream",
     "text": [
      "--2019-08-24 07:50:13--  http://cocl.us/Geospatial_data\n",
      "Resolving cocl.us (cocl.us)... 169.48.113.201\n",
      "Connecting to cocl.us (cocl.us)|169.48.113.201|:80... connected.\n",
      "HTTP request sent, awaiting response... 301 Moved Permanently\n",
      "Location: https://cocl.us/Geospatial_data [following]\n",
      "--2019-08-24 07:50:13--  https://cocl.us/Geospatial_data\n",
      "Connecting to cocl.us (cocl.us)|169.48.113.201|:443... connected.\n",
      "HTTP request sent, awaiting response... 301 Moved Permanently\n",
      "Location: https://ibm.box.com/shared/static/9afzr83pps4pwf2smjjcf1y5mvgb18rr.csv [following]\n",
      "--2019-08-24 07:50:16--  https://ibm.box.com/shared/static/9afzr83pps4pwf2smjjcf1y5mvgb18rr.csv\n",
      "Resolving ibm.box.com (ibm.box.com)... 107.152.27.197\n",
      "Connecting to ibm.box.com (ibm.box.com)|107.152.27.197|:443... connected.\n",
      "HTTP request sent, awaiting response... 301 Moved Permanently\n",
      "Location: /public/static/9afzr83pps4pwf2smjjcf1y5mvgb18rr.csv [following]\n",
      "--2019-08-24 07:50:16--  https://ibm.box.com/public/static/9afzr83pps4pwf2smjjcf1y5mvgb18rr.csv\n",
      "Reusing existing connection to ibm.box.com:443.\n",
      "HTTP request sent, awaiting response... 301 Moved Permanently\n",
      "Location: https://ibm.ent.box.com/public/static/9afzr83pps4pwf2smjjcf1y5mvgb18rr.csv [following]\n",
      "--2019-08-24 07:50:17--  https://ibm.ent.box.com/public/static/9afzr83pps4pwf2smjjcf1y5mvgb18rr.csv\n",
      "Resolving ibm.ent.box.com (ibm.ent.box.com)... 107.152.27.211\n",
      "Connecting to ibm.ent.box.com (ibm.ent.box.com)|107.152.27.211|:443... connected.\n",
      "HTTP request sent, awaiting response... 302 Found\n",
      "Location: https://public.boxcloud.com/d/1/b1!JCFFp11SgegDEXq1jSheUp7xrhG_J_IlcGc51z38sqAvjln4aHkTq5RgevEUp1gutakPosuvIS4gdNW_gFhZZKhfgnCelBA0CyqAd9JGVz4jpKtxsN3GpVMtetYA42qrSyeFi7BRF3Ew8-PnKZNviIg7fZwZhH9xx4HhsVVjW4c7RB0tyHjCSpd1jqeecskFo-Wp971WIN5VDCMHQOP_Fi-GkbH8RdaWM1yFSkC_zo-ELgIlfZJvcyV9COiXGCDNKbDU2-4miBJ4kkxhCjmr5xMWkhiqqH2LBI6zFvAypIPr0Yn82sC7I3P_Go1clUG429y95zy9UaX9jZ_3r5n-TZqtQD5-BCozy-IrrQ6TbJq1fvFJHEvJfDzjmQOqqlI3FEyBpGt3Pb6Nf8LgW9-_qEihF4cygxjLo-6OtnUYYIEuBu-kyA4xdiVISSo6tHahmqjbC3t-gqC7GrZh4-GyMwVrKz_awtUJgejIaIKYlqMR1vJyY5M4ig7-T_2PAsqX9vXsxn89rYvoR5ajg2E0VLbJhyQaNuEY4DiVi1eJKBPWXc5yLN9Uq9liqsVvMlIbnmeZVv2gBOqpH1Bf2WlW-AL8Iba4Y5kd_Uu8lKBrHHW5nqg2kMZsS0JV9_3TQu9GFjdMbntnxUGozhha4AEllD4Mrsm4YBm5mGYEJfOqhUUV6sneB27MKDsmOYjmuLHt7evVtZIdTq29CvFbnHNhHwlojaua7s_BmLzqz1mScOmfXw07pGuoRDYYaq1l7rPJDgf9e88lY4QwWG0skRdtEHNLy_jTSI4lbxvIE8enwZ2MW4cQHDBhYNS3BWEhvFtw8N1iItLMpYDCQ1dApI81Zht10ZeHcd96V-Qg-AyUlT_YBq7aIu_1BXlNWSPwf_F3YujQ9QqyGhDp6HGn6U1SjqMrlYBUT_G2kDuRzB54LSvH9Q4OTYXYkgKGH8eZF41ZwaA6K3-usF_gVJKwwK-z0f8OzWiSDGxxiOdfrxCJ_yeqtFuj24D3hdd-Fbd9NquEgYx2FJ4la7Kvdf3I5yO9P86fAiqE1qvP9ozKzPrt8jWqBgIbcA_DOKfpDHqCieHkZPP8KHPxx3pzIeNlOGcBCYB-vxqYt2ayyYStdYEfoimx2vUnny5el9hWRbiQ0aOw9m4_DmyqcGbM5V-VXs9KUpvN3ki4rcy-zhlfknRXvdvc_-0Hrur4xkG_oFP1_irWXRxDQJFQwz8ERs2Dz10kJJMRUtMe1zLd3s0nMjOV9rlCBpvgjVlo3j9eIELS3NMOGvm-5XUwoMAyZJWky-BfWfVSsbDzHTz7-srsDbLhtyIgPPO4gmBMOFtA3tVsX9v1L4sHICL3SeRzRm5PGjYoYyvtmxNt9C5EfEg2PcJ8nj11ZMbsqF221Oc./download [following]\n",
      "--2019-08-24 07:50:17--  https://public.boxcloud.com/d/1/b1!JCFFp11SgegDEXq1jSheUp7xrhG_J_IlcGc51z38sqAvjln4aHkTq5RgevEUp1gutakPosuvIS4gdNW_gFhZZKhfgnCelBA0CyqAd9JGVz4jpKtxsN3GpVMtetYA42qrSyeFi7BRF3Ew8-PnKZNviIg7fZwZhH9xx4HhsVVjW4c7RB0tyHjCSpd1jqeecskFo-Wp971WIN5VDCMHQOP_Fi-GkbH8RdaWM1yFSkC_zo-ELgIlfZJvcyV9COiXGCDNKbDU2-4miBJ4kkxhCjmr5xMWkhiqqH2LBI6zFvAypIPr0Yn82sC7I3P_Go1clUG429y95zy9UaX9jZ_3r5n-TZqtQD5-BCozy-IrrQ6TbJq1fvFJHEvJfDzjmQOqqlI3FEyBpGt3Pb6Nf8LgW9-_qEihF4cygxjLo-6OtnUYYIEuBu-kyA4xdiVISSo6tHahmqjbC3t-gqC7GrZh4-GyMwVrKz_awtUJgejIaIKYlqMR1vJyY5M4ig7-T_2PAsqX9vXsxn89rYvoR5ajg2E0VLbJhyQaNuEY4DiVi1eJKBPWXc5yLN9Uq9liqsVvMlIbnmeZVv2gBOqpH1Bf2WlW-AL8Iba4Y5kd_Uu8lKBrHHW5nqg2kMZsS0JV9_3TQu9GFjdMbntnxUGozhha4AEllD4Mrsm4YBm5mGYEJfOqhUUV6sneB27MKDsmOYjmuLHt7evVtZIdTq29CvFbnHNhHwlojaua7s_BmLzqz1mScOmfXw07pGuoRDYYaq1l7rPJDgf9e88lY4QwWG0skRdtEHNLy_jTSI4lbxvIE8enwZ2MW4cQHDBhYNS3BWEhvFtw8N1iItLMpYDCQ1dApI81Zht10ZeHcd96V-Qg-AyUlT_YBq7aIu_1BXlNWSPwf_F3YujQ9QqyGhDp6HGn6U1SjqMrlYBUT_G2kDuRzB54LSvH9Q4OTYXYkgKGH8eZF41ZwaA6K3-usF_gVJKwwK-z0f8OzWiSDGxxiOdfrxCJ_yeqtFuj24D3hdd-Fbd9NquEgYx2FJ4la7Kvdf3I5yO9P86fAiqE1qvP9ozKzPrt8jWqBgIbcA_DOKfpDHqCieHkZPP8KHPxx3pzIeNlOGcBCYB-vxqYt2ayyYStdYEfoimx2vUnny5el9hWRbiQ0aOw9m4_DmyqcGbM5V-VXs9KUpvN3ki4rcy-zhlfknRXvdvc_-0Hrur4xkG_oFP1_irWXRxDQJFQwz8ERs2Dz10kJJMRUtMe1zLd3s0nMjOV9rlCBpvgjVlo3j9eIELS3NMOGvm-5XUwoMAyZJWky-BfWfVSsbDzHTz7-srsDbLhtyIgPPO4gmBMOFtA3tVsX9v1L4sHICL3SeRzRm5PGjYoYyvtmxNt9C5EfEg2PcJ8nj11ZMbsqF221Oc./download\n",
      "Resolving public.boxcloud.com (public.boxcloud.com)... 107.152.24.200\n",
      "Connecting to public.boxcloud.com (public.boxcloud.com)|107.152.24.200|:443... connected.\n",
      "HTTP request sent, awaiting response... 200 OK\n",
      "Length: 2891 (2.8K) [text/csv]\n",
      "Saving to: ‘Geospatial_data.csv’\n",
      "\n",
      "Geospatial_data.csv 100%[===================>]   2.82K  --.-KB/s    in 0s      \n",
      "\n",
      "2019-08-24 07:50:18 (68.0 MB/s) - ‘Geospatial_data.csv’ saved [2891/2891]\n",
      "\n",
      "Data downloaded!\n"
     ]
    }
   ],
   "source": [
    "!wget -O Geospatial_data.csv http://cocl.us/Geospatial_data\n",
    "print('Data downloaded!')"
   ]
  },
  {
   "cell_type": "markdown",
   "metadata": {},
   "source": [
    "### Transform the data into dataframe"
   ]
  },
  {
   "cell_type": "code",
   "execution_count": 52,
   "metadata": {},
   "outputs": [],
   "source": [
    "geo = pd.read_csv(\"Geospatial_data.csv\")"
   ]
  },
  {
   "cell_type": "markdown",
   "metadata": {},
   "source": [
    "### Rename columns of dataframe just created"
   ]
  },
  {
   "cell_type": "code",
   "execution_count": 53,
   "metadata": {},
   "outputs": [],
   "source": [
    "geo.columns = ['PostalCode', 'Latitude', 'Longitude']"
   ]
  },
  {
   "cell_type": "markdown",
   "metadata": {},
   "source": [
    "### Merge the two dataframes"
   ]
  },
  {
   "cell_type": "code",
   "execution_count": 54,
   "metadata": {},
   "outputs": [
    {
     "data": {
      "text/html": [
       "<div>\n",
       "<style scoped>\n",
       "    .dataframe tbody tr th:only-of-type {\n",
       "        vertical-align: middle;\n",
       "    }\n",
       "\n",
       "    .dataframe tbody tr th {\n",
       "        vertical-align: top;\n",
       "    }\n",
       "\n",
       "    .dataframe thead th {\n",
       "        text-align: right;\n",
       "    }\n",
       "</style>\n",
       "<table border=\"1\" class=\"dataframe\">\n",
       "  <thead>\n",
       "    <tr style=\"text-align: right;\">\n",
       "      <th></th>\n",
       "      <th>PostalCode</th>\n",
       "      <th>Borough</th>\n",
       "      <th>Neighbourhood</th>\n",
       "      <th>Latitude</th>\n",
       "      <th>Longitude</th>\n",
       "    </tr>\n",
       "  </thead>\n",
       "  <tbody>\n",
       "    <tr>\n",
       "      <th>0</th>\n",
       "      <td>M1B</td>\n",
       "      <td>Scarborough</td>\n",
       "      <td>Rouge,Malvern</td>\n",
       "      <td>43.806686</td>\n",
       "      <td>-79.194353</td>\n",
       "    </tr>\n",
       "    <tr>\n",
       "      <th>1</th>\n",
       "      <td>M1C</td>\n",
       "      <td>Scarborough</td>\n",
       "      <td>Highland Creek,Rouge Hill,Port Union</td>\n",
       "      <td>43.784535</td>\n",
       "      <td>-79.160497</td>\n",
       "    </tr>\n",
       "    <tr>\n",
       "      <th>2</th>\n",
       "      <td>M1E</td>\n",
       "      <td>Scarborough</td>\n",
       "      <td>Guildwood,Morningside,West Hill</td>\n",
       "      <td>43.763573</td>\n",
       "      <td>-79.188711</td>\n",
       "    </tr>\n",
       "    <tr>\n",
       "      <th>3</th>\n",
       "      <td>M1G</td>\n",
       "      <td>Scarborough</td>\n",
       "      <td>Woburn</td>\n",
       "      <td>43.770992</td>\n",
       "      <td>-79.216917</td>\n",
       "    </tr>\n",
       "    <tr>\n",
       "      <th>4</th>\n",
       "      <td>M1H</td>\n",
       "      <td>Scarborough</td>\n",
       "      <td>Cedarbrae</td>\n",
       "      <td>43.773136</td>\n",
       "      <td>-79.239476</td>\n",
       "    </tr>\n",
       "  </tbody>\n",
       "</table>\n",
       "</div>"
      ],
      "text/plain": [
       "  PostalCode      Borough                         Neighbourhood   Latitude  \\\n",
       "0        M1B  Scarborough                         Rouge,Malvern  43.806686   \n",
       "1        M1C  Scarborough  Highland Creek,Rouge Hill,Port Union  43.784535   \n",
       "2        M1E  Scarborough       Guildwood,Morningside,West Hill  43.763573   \n",
       "3        M1G  Scarborough                                Woburn  43.770992   \n",
       "4        M1H  Scarborough                             Cedarbrae  43.773136   \n",
       "\n",
       "   Longitude  \n",
       "0 -79.194353  \n",
       "1 -79.160497  \n",
       "2 -79.188711  \n",
       "3 -79.216917  \n",
       "4 -79.239476  "
      ]
     },
     "execution_count": 54,
     "metadata": {},
     "output_type": "execute_result"
    }
   ],
   "source": [
    "df_geo = pd.merge(df, geo, on='PostalCode', how='left')\n",
    "df_geo.head()"
   ]
  },
  {
   "cell_type": "markdown",
   "metadata": {},
   "source": [
    "# --------------------------------------------- Part III ---------------------------------------------"
   ]
  },
  {
   "cell_type": "markdown",
   "metadata": {},
   "source": [
    "### Import and download library"
   ]
  },
  {
   "cell_type": "code",
   "execution_count": 55,
   "metadata": {},
   "outputs": [
    {
     "name": "stdout",
     "output_type": "stream",
     "text": [
      "Libraries downloaded and imported.\n"
     ]
    }
   ],
   "source": [
    "import json # library to handle JSON files\n",
    "\n",
    "#!conda install -c conda-forge geopy --yes\n",
    "from geopy.geocoders import Nominatim # convert an address into latitude and longitude values\n",
    "\n",
    "import requests # library to handle requests\n",
    "from pandas.io.json import json_normalize # tranform JSON file into a pandas dataframe\n",
    "\n",
    "# Matplotlib and associated plotting modules\n",
    "import matplotlib.cm as cm\n",
    "import matplotlib.colors as colors\n",
    "\n",
    "# import k-means from clustering stage\n",
    "from sklearn.cluster import KMeans\n",
    "\n",
    "#!conda install -c conda-forge folium=0.5.0 --yes # uncomment this line if you haven't completed the Foursquare API lab\n",
    "import folium # map rendering library\n",
    "\n",
    "print('Libraries downloaded and imported.')"
   ]
  },
  {
   "cell_type": "markdown",
   "metadata": {},
   "source": [
    "### Only select the subset of data where the word \"Toronto\" features"
   ]
  },
  {
   "cell_type": "code",
   "execution_count": 56,
   "metadata": {},
   "outputs": [],
   "source": [
    "toronto = df_geo[df_geo['Borough'].str.contains('Toronto')]"
   ]
  },
  {
   "cell_type": "markdown",
   "metadata": {},
   "source": [
    "### Get the coordinates of Toronto"
   ]
  },
  {
   "cell_type": "code",
   "execution_count": 57,
   "metadata": {},
   "outputs": [
    {
     "name": "stdout",
     "output_type": "stream",
     "text": [
      "The geograpical coordinate of Toronto are 43.6523873, -79.3835641.\n"
     ]
    }
   ],
   "source": [
    "address = 'Toronto, TO'\n",
    "geolocator = Nominatim(user_agent=\"toronto-map_data\")\n",
    "location = geolocator.geocode(address)\n",
    "latitude = location.latitude\n",
    "longitude = location.longitude\n",
    "print('The geograpical coordinate of Toronto are {}, {}.'.format(latitude, longitude))"
   ]
  },
  {
   "cell_type": "markdown",
   "metadata": {},
   "source": [
    "### Loading Foursquare API profile"
   ]
  },
  {
   "cell_type": "code",
   "execution_count": 58,
   "metadata": {},
   "outputs": [
    {
     "name": "stdout",
     "output_type": "stream",
     "text": [
      "Your credentails:\n",
      "CLIENT_ID: 3JHWEITDFXAALR1TXRJND12HEVZF2V11BENGPFLLDZHSG2YA\n",
      "CLIENT_SECRET:OSMXBJNX3MX3NY3YMZCXPJ5BLPZMRIRUKMUO3DW4OY2SYXGO\n"
     ]
    }
   ],
   "source": [
    "CLIENT_ID = '3JHWEITDFXAALR1TXRJND12HEVZF2V11BENGPFLLDZHSG2YA' # your Foursquare ID\n",
    "CLIENT_SECRET = 'OSMXBJNX3MX3NY3YMZCXPJ5BLPZMRIRUKMUO3DW4OY2SYXGO' # your Foursquare Secret\n",
    "VERSION = '20180605' # Foursquare API version\n",
    "\n",
    "print('Your credentails:')\n",
    "print('CLIENT_ID: ' + CLIENT_ID)\n",
    "print('CLIENT_SECRET:' + CLIENT_SECRET)"
   ]
  },
  {
   "cell_type": "markdown",
   "metadata": {},
   "source": [
    "### Limit of number of venues returned by Foursquare API and define radius"
   ]
  },
  {
   "cell_type": "code",
   "execution_count": 59,
   "metadata": {},
   "outputs": [],
   "source": [
    "LIMIT = 100 # are API\n",
    "radius = 500 # define radius"
   ]
  },
  {
   "cell_type": "markdown",
   "metadata": {},
   "source": [
    "### Create the function getNearbyVenues to get names, categories and coordinates of nearby places"
   ]
  },
  {
   "cell_type": "code",
   "execution_count": 60,
   "metadata": {},
   "outputs": [],
   "source": [
    "def getNearbyVenues(names, latitudes, longitudes, radius=500):\n",
    "    \n",
    "    venues_list=[]\n",
    "    for name, lat, lng in zip(names, latitudes, longitudes):\n",
    "        print(name)\n",
    "            \n",
    "        # create the API request URL\n",
    "        url = 'https://api.foursquare.com/v2/venues/explore?&client_id={}&client_secret={}&v={}&ll={},{}&radius={}&limit={}'.format(\n",
    "            CLIENT_ID, \n",
    "            CLIENT_SECRET, \n",
    "            VERSION, \n",
    "            lat, \n",
    "            lng, \n",
    "            radius, \n",
    "            LIMIT)\n",
    "            \n",
    "        # make the GET request\n",
    "        results = requests.get(url).json()[\"response\"]['groups'][0]['items']\n",
    "        \n",
    "        # return only relevant information for each nearby venue\n",
    "        venues_list.append([(\n",
    "            name, \n",
    "            lat, \n",
    "            lng, \n",
    "            v['venue']['name'], \n",
    "            v['venue']['location']['lat'], \n",
    "            v['venue']['location']['lng'],  \n",
    "            v['venue']['categories'][0]['name']) for v in results])\n",
    "\n",
    "    nearby_venues = pd.DataFrame([item for venue_list in venues_list for item in venue_list])\n",
    "    nearby_venues.columns = ['PostalCode', \n",
    "                  'PostalCode Latitude', \n",
    "                  'PostalCode Longitude', \n",
    "                  'Venue', \n",
    "                  'Venue Latitude', \n",
    "                  'Venue Longitude', \n",
    "                  'Venue Category']\n",
    "    \n",
    "    return(nearby_venues)"
   ]
  },
  {
   "cell_type": "markdown",
   "metadata": {},
   "source": [
    "### Run the above function on each neighborhood and create a new dataframe called toronto_venues"
   ]
  },
  {
   "cell_type": "code",
   "execution_count": null,
   "metadata": {},
   "outputs": [],
   "source": [
    "toronto_venues = getNearbyVenues(names=df_geo['PostalCode'], latitudes=df_geo['Latitude'], longitudes=df_geo['Longitude'])\n",
    "print(\"function runned on df_geo and new dataframe toronto_venues created\")"
   ]
  },
  {
   "cell_type": "code",
   "execution_count": null,
   "metadata": {},
   "outputs": [],
   "source": [
    "toronto_venues.head()"
   ]
  },
  {
   "cell_type": "markdown",
   "metadata": {},
   "source": [
    "### One hot encoding according to each category of nearby venues"
   ]
  },
  {
   "cell_type": "code",
   "execution_count": null,
   "metadata": {},
   "outputs": [],
   "source": [
    "# one hot encoding\n",
    "toronto_onehot = pd.get_dummies(toronto_venues[['Venue Category']], prefix=\"\", prefix_sep=\"\")\n",
    "\n",
    "# add PostalCode column back to dataframe\n",
    "toronto_onehot['PostalCode'] = toronto_venues['PostalCode'] \n",
    "\n",
    "# move neighborhood column to the first column\n",
    "fixed_columns = [toronto_onehot.columns[-1]] + list(toronto_onehot.columns[:-1])\n",
    "toronto_onehot = toronto_onehot[fixed_columns]\n",
    "\n",
    "toronto_onehot.head()"
   ]
  },
  {
   "cell_type": "markdown",
   "metadata": {},
   "source": [
    "### Merge rows by PostalCode, agregate all the onehot"
   ]
  },
  {
   "cell_type": "code",
   "execution_count": null,
   "metadata": {},
   "outputs": [],
   "source": [
    "toronto_grouped = toronto_onehot.groupby('PostalCode').mean().reset_index()\n",
    "toronto_grouped.head()"
   ]
  },
  {
   "cell_type": "markdown",
   "metadata": {},
   "source": [
    "### Function to find the most common venues"
   ]
  },
  {
   "cell_type": "code",
   "execution_count": 442,
   "metadata": {},
   "outputs": [],
   "source": [
    "def return_most_common_venues(row, num_top_venues):\n",
    "    row_categories = row.iloc[1:]\n",
    "    row_categories_sorted = row_categories.sort_values(ascending=False)\n",
    "    \n",
    "    return row_categories_sorted.index.values[0:num_top_venues]"
   ]
  },
  {
   "cell_type": "markdown",
   "metadata": {},
   "source": [
    "### Create loop for columns according to number of top venues"
   ]
  },
  {
   "cell_type": "code",
   "execution_count": 443,
   "metadata": {},
   "outputs": [],
   "source": [
    "num_top_venues = 5\n",
    "indicators = ['st', 'nd', 'rd']\n",
    "columns = ['PostalCode']\n",
    "\n",
    "for ind in np.arange(num_top_venues):\n",
    "    try:\n",
    "        columns.append('{}{} Most Common Venue'.format(ind+1, indicators[ind]))\n",
    "    except:\n",
    "        columns.append('{}th Most Common Venue'.format(ind+1))"
   ]
  },
  {
   "cell_type": "markdown",
   "metadata": {},
   "source": [
    "### Create a new dataframe"
   ]
  },
  {
   "cell_type": "code",
   "execution_count": 444,
   "metadata": {},
   "outputs": [
    {
     "data": {
      "text/html": [
       "<div>\n",
       "<style scoped>\n",
       "    .dataframe tbody tr th:only-of-type {\n",
       "        vertical-align: middle;\n",
       "    }\n",
       "\n",
       "    .dataframe tbody tr th {\n",
       "        vertical-align: top;\n",
       "    }\n",
       "\n",
       "    .dataframe thead th {\n",
       "        text-align: right;\n",
       "    }\n",
       "</style>\n",
       "<table border=\"1\" class=\"dataframe\">\n",
       "  <thead>\n",
       "    <tr style=\"text-align: right;\">\n",
       "      <th></th>\n",
       "      <th>PostalCode</th>\n",
       "      <th>1st Most Common Venue</th>\n",
       "      <th>2nd Most Common Venue</th>\n",
       "      <th>3rd Most Common Venue</th>\n",
       "      <th>4th Most Common Venue</th>\n",
       "      <th>5th Most Common Venue</th>\n",
       "    </tr>\n",
       "  </thead>\n",
       "  <tbody>\n",
       "    <tr>\n",
       "      <th>0</th>\n",
       "      <td>M1B</td>\n",
       "      <td>Fast Food Restaurant</td>\n",
       "      <td>Yoga Studio</td>\n",
       "      <td>Electronics Store</td>\n",
       "      <td>Dog Run</td>\n",
       "      <td>Doner Restaurant</td>\n",
       "    </tr>\n",
       "    <tr>\n",
       "      <th>1</th>\n",
       "      <td>M1C</td>\n",
       "      <td>Bar</td>\n",
       "      <td>Yoga Studio</td>\n",
       "      <td>Electronics Store</td>\n",
       "      <td>Doner Restaurant</td>\n",
       "      <td>Donut Shop</td>\n",
       "    </tr>\n",
       "    <tr>\n",
       "      <th>2</th>\n",
       "      <td>M1E</td>\n",
       "      <td>Breakfast Spot</td>\n",
       "      <td>Rental Car Location</td>\n",
       "      <td>Intersection</td>\n",
       "      <td>Pizza Place</td>\n",
       "      <td>Electronics Store</td>\n",
       "    </tr>\n",
       "    <tr>\n",
       "      <th>3</th>\n",
       "      <td>M1G</td>\n",
       "      <td>Coffee Shop</td>\n",
       "      <td>Korean Restaurant</td>\n",
       "      <td>Electronics Store</td>\n",
       "      <td>Dog Run</td>\n",
       "      <td>Doner Restaurant</td>\n",
       "    </tr>\n",
       "    <tr>\n",
       "      <th>4</th>\n",
       "      <td>M1H</td>\n",
       "      <td>Hakka Restaurant</td>\n",
       "      <td>Thai Restaurant</td>\n",
       "      <td>Fried Chicken Joint</td>\n",
       "      <td>Bank</td>\n",
       "      <td>Bakery</td>\n",
       "    </tr>\n",
       "  </tbody>\n",
       "</table>\n",
       "</div>"
      ],
      "text/plain": [
       "  PostalCode 1st Most Common Venue 2nd Most Common Venue  \\\n",
       "0        M1B  Fast Food Restaurant           Yoga Studio   \n",
       "1        M1C                   Bar           Yoga Studio   \n",
       "2        M1E        Breakfast Spot   Rental Car Location   \n",
       "3        M1G           Coffee Shop     Korean Restaurant   \n",
       "4        M1H      Hakka Restaurant       Thai Restaurant   \n",
       "\n",
       "  3rd Most Common Venue 4th Most Common Venue 5th Most Common Venue  \n",
       "0     Electronics Store               Dog Run      Doner Restaurant  \n",
       "1     Electronics Store      Doner Restaurant            Donut Shop  \n",
       "2          Intersection           Pizza Place     Electronics Store  \n",
       "3     Electronics Store               Dog Run      Doner Restaurant  \n",
       "4   Fried Chicken Joint                  Bank                Bakery  "
      ]
     },
     "execution_count": 444,
     "metadata": {},
     "output_type": "execute_result"
    }
   ],
   "source": [
    "PostalCode_venues_sorted = pd.DataFrame(columns=columns) #Create the columns based on the loop above\n",
    "PostalCode_venues_sorted['PostalCode'] = toronto_grouped['PostalCode'] #Add the postal code from the data frame toronto_grouped\n",
    "\n",
    "for ind in np.arange(toronto_grouped.shape[0]):\n",
    "    PostalCode_venues_sorted.iloc[ind, 1:] = return_most_common_venues(toronto_grouped.iloc[ind, :], num_top_venues)\n",
    "\n",
    "PostalCode_venues_sorted.head()"
   ]
  },
  {
   "cell_type": "markdown",
   "metadata": {},
   "source": [
    "### Perform K-Means Clustering"
   ]
  },
  {
   "cell_type": "code",
   "execution_count": 445,
   "metadata": {},
   "outputs": [],
   "source": [
    "toronto_clustering = toronto_grouped.drop('PostalCode', axis = 1)"
   ]
  },
  {
   "cell_type": "code",
   "execution_count": 446,
   "metadata": {},
   "outputs": [
    {
     "data": {
      "text/plain": [
       "array([1, 4, 3, 3, 1, 3, 3, 1, 3, 1, 3, 3, 3, 1, 0, 3, 1, 3, 1, 3, 0, 3,\n",
       "       0, 3, 0, 1, 3, 3, 3, 0, 1, 3, 1, 3, 1, 1, 3, 3, 3, 0, 3, 3, 3, 0,\n",
       "       3, 3, 3, 0, 3, 0, 3, 3, 3, 3, 3, 3, 3, 3, 3, 3, 3, 3, 2, 0, 3, 3,\n",
       "       3, 3, 3, 3, 3, 1, 3, 0, 1, 1, 3, 3, 1, 3, 3, 1, 3, 3, 3, 3, 3, 3,\n",
       "       3, 0, 3, 3, 1, 3, 3, 3, 0, 3, 0, 3, 1], dtype=int32)"
      ]
     },
     "execution_count": 446,
     "metadata": {},
     "output_type": "execute_result"
    }
   ],
   "source": [
    "k_clusters = 5\n",
    "kmeans = KMeans(n_clusters = k_clusters, random_state = 0).fit(toronto_clustering)\n",
    "kmeans.labels_"
   ]
  },
  {
   "cell_type": "markdown",
   "metadata": {},
   "source": [
    "### Add clustering labels to dataframe PostalCode_venues_sorted"
   ]
  },
  {
   "cell_type": "code",
   "execution_count": 447,
   "metadata": {},
   "outputs": [],
   "source": [
    "PostalCode_venues_sorted.insert(0, 'Cluster Labels', kmeans.labels_)"
   ]
  },
  {
   "cell_type": "code",
   "execution_count": 448,
   "metadata": {},
   "outputs": [],
   "source": [
    "toronto_merged = toronto"
   ]
  },
  {
   "cell_type": "markdown",
   "metadata": {},
   "source": [
    "### Merge toronto_merged with PostalCode_venues_sorted to add latitude/longitude for each PostalCode"
   ]
  },
  {
   "cell_type": "code",
   "execution_count": 449,
   "metadata": {},
   "outputs": [
    {
     "data": {
      "text/html": [
       "<div>\n",
       "<style scoped>\n",
       "    .dataframe tbody tr th:only-of-type {\n",
       "        vertical-align: middle;\n",
       "    }\n",
       "\n",
       "    .dataframe tbody tr th {\n",
       "        vertical-align: top;\n",
       "    }\n",
       "\n",
       "    .dataframe thead th {\n",
       "        text-align: right;\n",
       "    }\n",
       "</style>\n",
       "<table border=\"1\" class=\"dataframe\">\n",
       "  <thead>\n",
       "    <tr style=\"text-align: right;\">\n",
       "      <th></th>\n",
       "      <th>PostalCode</th>\n",
       "      <th>Borough</th>\n",
       "      <th>Neighbourhood</th>\n",
       "      <th>Latitude</th>\n",
       "      <th>Longitude</th>\n",
       "      <th>Cluster Labels</th>\n",
       "      <th>1st Most Common Venue</th>\n",
       "      <th>2nd Most Common Venue</th>\n",
       "      <th>3rd Most Common Venue</th>\n",
       "      <th>4th Most Common Venue</th>\n",
       "      <th>5th Most Common Venue</th>\n",
       "    </tr>\n",
       "  </thead>\n",
       "  <tbody>\n",
       "    <tr>\n",
       "      <th>37</th>\n",
       "      <td>M4E</td>\n",
       "      <td>East Toronto</td>\n",
       "      <td>The Beaches</td>\n",
       "      <td>43.676357</td>\n",
       "      <td>-79.293031</td>\n",
       "      <td>3</td>\n",
       "      <td>Trail</td>\n",
       "      <td>Health Food Store</td>\n",
       "      <td>Pub</td>\n",
       "      <td>Coffee Shop</td>\n",
       "      <td>Neighborhood</td>\n",
       "    </tr>\n",
       "    <tr>\n",
       "      <th>41</th>\n",
       "      <td>M4K</td>\n",
       "      <td>East Toronto</td>\n",
       "      <td>The Danforth West,Riverdale</td>\n",
       "      <td>43.679557</td>\n",
       "      <td>-79.352188</td>\n",
       "      <td>3</td>\n",
       "      <td>Greek Restaurant</td>\n",
       "      <td>Coffee Shop</td>\n",
       "      <td>Italian Restaurant</td>\n",
       "      <td>Furniture / Home Store</td>\n",
       "      <td>Ice Cream Shop</td>\n",
       "    </tr>\n",
       "    <tr>\n",
       "      <th>42</th>\n",
       "      <td>M4L</td>\n",
       "      <td>East Toronto</td>\n",
       "      <td>The Beaches West,India Bazaar</td>\n",
       "      <td>43.668999</td>\n",
       "      <td>-79.315572</td>\n",
       "      <td>3</td>\n",
       "      <td>Pizza Place</td>\n",
       "      <td>Park</td>\n",
       "      <td>Pub</td>\n",
       "      <td>Brewery</td>\n",
       "      <td>Liquor Store</td>\n",
       "    </tr>\n",
       "    <tr>\n",
       "      <th>43</th>\n",
       "      <td>M4M</td>\n",
       "      <td>East Toronto</td>\n",
       "      <td>Studio District</td>\n",
       "      <td>43.659526</td>\n",
       "      <td>-79.340923</td>\n",
       "      <td>3</td>\n",
       "      <td>Café</td>\n",
       "      <td>Coffee Shop</td>\n",
       "      <td>Bakery</td>\n",
       "      <td>Italian Restaurant</td>\n",
       "      <td>American Restaurant</td>\n",
       "    </tr>\n",
       "    <tr>\n",
       "      <th>44</th>\n",
       "      <td>M4N</td>\n",
       "      <td>Central Toronto</td>\n",
       "      <td>Lawrence Park</td>\n",
       "      <td>43.728020</td>\n",
       "      <td>-79.388790</td>\n",
       "      <td>0</td>\n",
       "      <td>Park</td>\n",
       "      <td>Dim Sum Restaurant</td>\n",
       "      <td>Swim School</td>\n",
       "      <td>Bus Line</td>\n",
       "      <td>Dive Bar</td>\n",
       "    </tr>\n",
       "  </tbody>\n",
       "</table>\n",
       "</div>"
      ],
      "text/plain": [
       "   PostalCode          Borough                  Neighbourhood   Latitude  \\\n",
       "37        M4E     East Toronto                    The Beaches  43.676357   \n",
       "41        M4K     East Toronto    The Danforth West,Riverdale  43.679557   \n",
       "42        M4L     East Toronto  The Beaches West,India Bazaar  43.668999   \n",
       "43        M4M     East Toronto                Studio District  43.659526   \n",
       "44        M4N  Central Toronto                  Lawrence Park  43.728020   \n",
       "\n",
       "    Longitude  Cluster Labels 1st Most Common Venue 2nd Most Common Venue  \\\n",
       "37 -79.293031               3                 Trail     Health Food Store   \n",
       "41 -79.352188               3      Greek Restaurant           Coffee Shop   \n",
       "42 -79.315572               3           Pizza Place                  Park   \n",
       "43 -79.340923               3                  Café           Coffee Shop   \n",
       "44 -79.388790               0                  Park    Dim Sum Restaurant   \n",
       "\n",
       "   3rd Most Common Venue   4th Most Common Venue 5th Most Common Venue  \n",
       "37                   Pub             Coffee Shop          Neighborhood  \n",
       "41    Italian Restaurant  Furniture / Home Store        Ice Cream Shop  \n",
       "42                   Pub                 Brewery          Liquor Store  \n",
       "43                Bakery      Italian Restaurant   American Restaurant  \n",
       "44           Swim School                Bus Line              Dive Bar  "
      ]
     },
     "execution_count": 449,
     "metadata": {},
     "output_type": "execute_result"
    }
   ],
   "source": [
    "toronto_merged = toronto_merged.join(PostalCode_venues_sorted.set_index('PostalCode'), on='PostalCode')\n",
    "\n",
    "toronto_merged.head() # check the last columns!"
   ]
  },
  {
   "cell_type": "markdown",
   "metadata": {},
   "source": [
    "### Visualize clusters on map"
   ]
  },
  {
   "cell_type": "code",
   "execution_count": 450,
   "metadata": {},
   "outputs": [
    {
     "data": {
      "text/html": [
       "<div style=\"width:100%;\"><div style=\"position:relative;width:100%;height:0;padding-bottom:60%;\"><iframe src=\"data:text/html;charset=utf-8;base64,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\" style=\"position:absolute;width:100%;height:100%;left:0;top:0;border:none !important;\" allowfullscreen webkitallowfullscreen mozallowfullscreen></iframe></div></div>"
      ],
      "text/plain": [
       "<folium.folium.Map at 0x7fe773c796d8>"
      ]
     },
     "execution_count": 450,
     "metadata": {},
     "output_type": "execute_result"
    }
   ],
   "source": [
    "# create map of Toronto using latitude and longitude values\n",
    "toronto_clustermap = folium.Map(location=[latitude, longitude], zoom_start=11)\n",
    "\n",
    "# set color scheme for the clusters\n",
    "rainbow = ['red','blue','green','yellow','black','pink', 'darkgreen','cyan','forestgreen']\n",
    "\n",
    "# Plot the selected PostalCode to the map of Toronto and add marker\n",
    "markers_colors = []\n",
    "for lat, lon, post, cluster in zip(toronto_merged['Latitude'], toronto_merged['Longitude'], toronto_merged['PostalCode'], toronto_merged['Cluster Labels']):\n",
    "    label = folium.Popup(str(post) + ' Cluster ' + str(cluster), parse_html=True)\n",
    "    folium.CircleMarker(\n",
    "        [lat, lon],\n",
    "        radius=5,\n",
    "        popup=label,\n",
    "        color=rainbow[cluster-1],\n",
    "        fill=True,\n",
    "        fill_color=rainbow[cluster-3],\n",
    "        fill_opacity=0.7).add_to(toronto_clustermap)\n",
    "       \n",
    "toronto_clustermap"
   ]
  },
  {
   "cell_type": "markdown",
   "metadata": {},
   "source": [
    "### List of the venues type most recuring within each cluster"
   ]
  },
  {
   "cell_type": "code",
   "execution_count": 451,
   "metadata": {},
   "outputs": [
    {
     "data": {
      "text/html": [
       "<div>\n",
       "<style scoped>\n",
       "    .dataframe tbody tr th:only-of-type {\n",
       "        vertical-align: middle;\n",
       "    }\n",
       "\n",
       "    .dataframe tbody tr th {\n",
       "        vertical-align: top;\n",
       "    }\n",
       "\n",
       "    .dataframe thead th {\n",
       "        text-align: right;\n",
       "    }\n",
       "</style>\n",
       "<table border=\"1\" class=\"dataframe\">\n",
       "  <thead>\n",
       "    <tr style=\"text-align: right;\">\n",
       "      <th></th>\n",
       "      <th>Recurrence</th>\n",
       "    </tr>\n",
       "    <tr>\n",
       "      <th>1st Most Common Venue</th>\n",
       "      <th></th>\n",
       "    </tr>\n",
       "  </thead>\n",
       "  <tbody>\n",
       "    <tr>\n",
       "      <th>Park</th>\n",
       "      <td>4</td>\n",
       "    </tr>\n",
       "  </tbody>\n",
       "</table>\n",
       "</div>"
      ],
      "text/plain": [
       "                       Recurrence\n",
       "1st Most Common Venue            \n",
       "Park                            4"
      ]
     },
     "execution_count": 451,
     "metadata": {},
     "output_type": "execute_result"
    }
   ],
   "source": [
    "test = toronto_merged.loc[toronto_merged['Cluster Labels'] == 0].groupby('1st Most Common Venue').count()\n",
    "test = test.drop(test.columns.to_series()[\"Borough\":\"5th Most Common Venue\"], axis=1).sort_values(columns[0], ascending = False)\n",
    "test.columns = ['Recurrence']\n",
    "test.head()"
   ]
  },
  {
   "cell_type": "code",
   "execution_count": 452,
   "metadata": {},
   "outputs": [
    {
     "data": {
      "text/html": [
       "<div>\n",
       "<style scoped>\n",
       "    .dataframe tbody tr th:only-of-type {\n",
       "        vertical-align: middle;\n",
       "    }\n",
       "\n",
       "    .dataframe tbody tr th {\n",
       "        vertical-align: top;\n",
       "    }\n",
       "\n",
       "    .dataframe thead th {\n",
       "        text-align: right;\n",
       "    }\n",
       "</style>\n",
       "<table border=\"1\" class=\"dataframe\">\n",
       "  <thead>\n",
       "    <tr style=\"text-align: right;\">\n",
       "      <th></th>\n",
       "      <th>Recurrence</th>\n",
       "    </tr>\n",
       "    <tr>\n",
       "      <th>1st Most Common Venue</th>\n",
       "      <th></th>\n",
       "    </tr>\n",
       "  </thead>\n",
       "  <tbody>\n",
       "    <tr>\n",
       "      <th>Bakery</th>\n",
       "      <td>1</td>\n",
       "    </tr>\n",
       "    <tr>\n",
       "      <th>Grocery Store</th>\n",
       "      <td>1</td>\n",
       "    </tr>\n",
       "    <tr>\n",
       "      <th>Mexican Restaurant</th>\n",
       "      <td>1</td>\n",
       "    </tr>\n",
       "  </tbody>\n",
       "</table>\n",
       "</div>"
      ],
      "text/plain": [
       "                       Recurrence\n",
       "1st Most Common Venue            \n",
       "Bakery                          1\n",
       "Grocery Store                   1\n",
       "Mexican Restaurant              1"
      ]
     },
     "execution_count": 452,
     "metadata": {},
     "output_type": "execute_result"
    }
   ],
   "source": [
    "test = toronto_merged.loc[toronto_merged['Cluster Labels'] == 1].groupby('1st Most Common Venue').count()\n",
    "test = test.drop(test.columns.to_series()[\"Borough\":\"5th Most Common Venue\"], axis=1).sort_values(columns[0], ascending = False)\n",
    "test.columns = ['Recurrence']\n",
    "test.head()"
   ]
  },
  {
   "cell_type": "code",
   "execution_count": 453,
   "metadata": {},
   "outputs": [
    {
     "data": {
      "text/html": [
       "<div>\n",
       "<style scoped>\n",
       "    .dataframe tbody tr th:only-of-type {\n",
       "        vertical-align: middle;\n",
       "    }\n",
       "\n",
       "    .dataframe tbody tr th {\n",
       "        vertical-align: top;\n",
       "    }\n",
       "\n",
       "    .dataframe thead th {\n",
       "        text-align: right;\n",
       "    }\n",
       "</style>\n",
       "<table border=\"1\" class=\"dataframe\">\n",
       "  <thead>\n",
       "    <tr style=\"text-align: right;\">\n",
       "      <th></th>\n",
       "      <th>Recurrence</th>\n",
       "    </tr>\n",
       "    <tr>\n",
       "      <th>1st Most Common Venue</th>\n",
       "      <th></th>\n",
       "    </tr>\n",
       "  </thead>\n",
       "  <tbody>\n",
       "    <tr>\n",
       "      <th>Garden</th>\n",
       "      <td>1</td>\n",
       "    </tr>\n",
       "  </tbody>\n",
       "</table>\n",
       "</div>"
      ],
      "text/plain": [
       "                       Recurrence\n",
       "1st Most Common Venue            \n",
       "Garden                          1"
      ]
     },
     "execution_count": 453,
     "metadata": {},
     "output_type": "execute_result"
    }
   ],
   "source": [
    "test = toronto_merged.loc[toronto_merged['Cluster Labels'] == 2].groupby('1st Most Common Venue').count()\n",
    "test = test.drop(test.columns.to_series()[\"Borough\":\"5th Most Common Venue\"], axis=1).sort_values(columns[0], ascending = False)\n",
    "test.columns = ['Recurrence']\n",
    "test.head()"
   ]
  },
  {
   "cell_type": "code",
   "execution_count": 454,
   "metadata": {},
   "outputs": [
    {
     "data": {
      "text/html": [
       "<div>\n",
       "<style scoped>\n",
       "    .dataframe tbody tr th:only-of-type {\n",
       "        vertical-align: middle;\n",
       "    }\n",
       "\n",
       "    .dataframe tbody tr th {\n",
       "        vertical-align: top;\n",
       "    }\n",
       "\n",
       "    .dataframe thead th {\n",
       "        text-align: right;\n",
       "    }\n",
       "</style>\n",
       "<table border=\"1\" class=\"dataframe\">\n",
       "  <thead>\n",
       "    <tr style=\"text-align: right;\">\n",
       "      <th></th>\n",
       "      <th>Recurrence</th>\n",
       "    </tr>\n",
       "    <tr>\n",
       "      <th>1st Most Common Venue</th>\n",
       "      <th></th>\n",
       "    </tr>\n",
       "  </thead>\n",
       "  <tbody>\n",
       "    <tr>\n",
       "      <th>Coffee Shop</th>\n",
       "      <td>12</td>\n",
       "    </tr>\n",
       "    <tr>\n",
       "      <th>Café</th>\n",
       "      <td>6</td>\n",
       "    </tr>\n",
       "    <tr>\n",
       "      <th>Pizza Place</th>\n",
       "      <td>2</td>\n",
       "    </tr>\n",
       "    <tr>\n",
       "      <th>Airport Terminal</th>\n",
       "      <td>1</td>\n",
       "    </tr>\n",
       "    <tr>\n",
       "      <th>Bar</th>\n",
       "      <td>1</td>\n",
       "    </tr>\n",
       "  </tbody>\n",
       "</table>\n",
       "</div>"
      ],
      "text/plain": [
       "                       Recurrence\n",
       "1st Most Common Venue            \n",
       "Coffee Shop                    12\n",
       "Café                            6\n",
       "Pizza Place                     2\n",
       "Airport Terminal                1\n",
       "Bar                             1"
      ]
     },
     "execution_count": 454,
     "metadata": {},
     "output_type": "execute_result"
    }
   ],
   "source": [
    "test = toronto_merged.loc[toronto_merged['Cluster Labels'] == 3].groupby('1st Most Common Venue').count()\n",
    "test = test.drop(test.columns.to_series()[\"Borough\":\"5th Most Common Venue\"], axis=1).sort_values(columns[0], ascending = False)\n",
    "test.columns = ['Recurrence']\n",
    "test.head()"
   ]
  },
  {
   "cell_type": "code",
   "execution_count": 455,
   "metadata": {},
   "outputs": [
    {
     "data": {
      "text/html": [
       "<div>\n",
       "<style scoped>\n",
       "    .dataframe tbody tr th:only-of-type {\n",
       "        vertical-align: middle;\n",
       "    }\n",
       "\n",
       "    .dataframe tbody tr th {\n",
       "        vertical-align: top;\n",
       "    }\n",
       "\n",
       "    .dataframe thead th {\n",
       "        text-align: right;\n",
       "    }\n",
       "</style>\n",
       "<table border=\"1\" class=\"dataframe\">\n",
       "  <thead>\n",
       "    <tr style=\"text-align: right;\">\n",
       "      <th></th>\n",
       "      <th>Recurrence</th>\n",
       "    </tr>\n",
       "    <tr>\n",
       "      <th>1st Most Common Venue</th>\n",
       "      <th></th>\n",
       "    </tr>\n",
       "  </thead>\n",
       "  <tbody>\n",
       "  </tbody>\n",
       "</table>\n",
       "</div>"
      ],
      "text/plain": [
       "Empty DataFrame\n",
       "Columns: [Recurrence]\n",
       "Index: []"
      ]
     },
     "execution_count": 455,
     "metadata": {},
     "output_type": "execute_result"
    }
   ],
   "source": [
    "test = toronto_merged.loc[toronto_merged['Cluster Labels'] == 4].groupby('1st Most Common Venue').count()\n",
    "test = test.drop(test.columns.to_series()[\"Borough\":\"5th Most Common Venue\"], axis=1).sort_values(columns[0], ascending = False)\n",
    "test.columns = ['Recurrence']\n",
    "test.head()"
   ]
  },
  {
   "cell_type": "code",
   "execution_count": 456,
   "metadata": {},
   "outputs": [
    {
     "data": {
      "text/html": [
       "<div>\n",
       "<style scoped>\n",
       "    .dataframe tbody tr th:only-of-type {\n",
       "        vertical-align: middle;\n",
       "    }\n",
       "\n",
       "    .dataframe tbody tr th {\n",
       "        vertical-align: top;\n",
       "    }\n",
       "\n",
       "    .dataframe thead th {\n",
       "        text-align: right;\n",
       "    }\n",
       "</style>\n",
       "<table border=\"1\" class=\"dataframe\">\n",
       "  <thead>\n",
       "    <tr style=\"text-align: right;\">\n",
       "      <th></th>\n",
       "      <th>Recurrence</th>\n",
       "    </tr>\n",
       "    <tr>\n",
       "      <th>1st Most Common Venue</th>\n",
       "      <th></th>\n",
       "    </tr>\n",
       "  </thead>\n",
       "  <tbody>\n",
       "  </tbody>\n",
       "</table>\n",
       "</div>"
      ],
      "text/plain": [
       "Empty DataFrame\n",
       "Columns: [Recurrence]\n",
       "Index: []"
      ]
     },
     "execution_count": 456,
     "metadata": {},
     "output_type": "execute_result"
    }
   ],
   "source": [
    "test = toronto_merged.loc[toronto_merged['Cluster Labels'] == 5].groupby('1st Most Common Venue').count()\n",
    "test = test.drop(test.columns.to_series()[\"Borough\":\"5th Most Common Venue\"], axis=1).sort_values(columns[0], ascending = False)\n",
    "test.columns = ['Recurrence']\n",
    "test.head()"
   ]
  }
 ],
 "metadata": {
  "kernelspec": {
   "display_name": "Python",
   "language": "python",
   "name": "conda-env-python-py"
  },
  "language_info": {
   "codemirror_mode": {
    "name": "ipython",
    "version": 3
   },
   "file_extension": ".py",
   "mimetype": "text/x-python",
   "name": "python",
   "nbconvert_exporter": "python",
   "pygments_lexer": "ipython3",
   "version": "3.6.7"
  }
 },
 "nbformat": 4,
 "nbformat_minor": 4
}
